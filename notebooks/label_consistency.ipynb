{
 "cells": [
  {
   "cell_type": "code",
   "execution_count": 1,
   "id": "e28f757b",
   "metadata": {},
   "outputs": [
    {
     "name": "stderr",
     "output_type": "stream",
     "text": [
      "/Users/emiliomaddalena/Documents/github/setfit/.venv/lib/python3.12/site-packages/tqdm/auto.py:21: TqdmWarning: IProgress not found. Please update jupyter and ipywidgets. See https://ipywidgets.readthedocs.io/en/stable/user_install.html\n",
      "  from .autonotebook import tqdm as notebook_tqdm\n"
     ]
    }
   ],
   "source": [
    "from setfit import SetFitModel, Trainer, TrainingArguments\n",
    "from datasets import Dataset\n",
    "import numpy as np\n",
    "import torch\n",
    "import random"
   ]
  },
  {
   "cell_type": "code",
   "execution_count": 2,
   "id": "c7f08856",
   "metadata": {},
   "outputs": [],
   "source": [
    "sentences = [\n",
    "    # food\n",
    "    \"I enjoy making homemade pizza on weekends.\",\n",
    "    \"Fresh vegetables add color and flavor to any meal.\",\n",
    "    \"A freshly baked cake can brighten any celebration.\",\n",
    "    \"Many people love discovering new coffee shops.\",\n",
    "    # chemestry\n",
    "    \"Chemistry focuses on the composition, structure, and properties of matter.\",\n",
    "    \"Chemical reactions can transform one set of substances into entirely different ones.\",\n",
    "    \"Acids and bases react to form salts and water in neutralization processes.\",\n",
    "    \"Organic chemistry studies carbon-based compounds essential to living organisms.\",\n",
    "    # sports\n",
    "    \"Regular exercise boosts both health and mood.\",\n",
    "    \"Soccer is popular in many countries around the world.\",\n",
    "    \"Professional athletes maintain strict training schedules.\",\n",
    "    \"A supportive crowd can motivate players to perform better.\",\n",
    "]\n",
    "\n",
    "labels = [\n",
    "    \"food\",\n",
    "    \"food\",\n",
    "    \"food\",\n",
    "    \"food\",\n",
    "    \"chemistry\",\n",
    "    \"chemistry\",\n",
    "    \"chemistry\",\n",
    "    \"chemistry\",\n",
    "    \"sports\",\n",
    "    \"sports\",\n",
    "    \"sports\",\n",
    "    \"sports\",\n",
    "]\n",
    "\n",
    "train_dataset = Dataset.from_dict({\"text\": sentences, \"label\": labels})"
   ]
  },
  {
   "cell_type": "code",
   "execution_count": 3,
   "id": "78368d95",
   "metadata": {},
   "outputs": [
    {
     "name": "stderr",
     "output_type": "stream",
     "text": [
      "model_head.pkl not found on HuggingFace Hub, initialising classification head with random weights. You should TRAIN this model on a downstream task to use it for predictions and inference.\n"
     ]
    }
   ],
   "source": [
    "model_id = \"sentence-transformers/all-MiniLM-L6-v2\"\n",
    "model = SetFitModel.from_pretrained(\n",
    "    model_id,\n",
    "    labels=[\n",
    "        \"food\",\n",
    "        \"chemistry\",\n",
    "        \"sports\",\n",
    "    ],\n",
    ")"
   ]
  },
  {
   "cell_type": "code",
   "execution_count": 4,
   "id": "1c3ab4ab",
   "metadata": {},
   "outputs": [
    {
     "name": "stderr",
     "output_type": "stream",
     "text": [
      "/Users/emiliomaddalena/Documents/github/setfit/.venv/lib/python3.12/site-packages/codecarbon/input.py:9: DeprecationWarning: pkg_resources is deprecated as an API. See https://setuptools.pypa.io/en/latest/pkg_resources.html\n",
      "  import pkg_resources\n",
      "/Users/emiliomaddalena/Documents/github/setfit/.venv/lib/python3.12/site-packages/pkg_resources/__init__.py:3147: DeprecationWarning: Deprecated call to `pkg_resources.declare_namespace('google')`.\n",
      "Implementing implicit namespace packages (as specified in PEP 420) is preferred to `pkg_resources.declare_namespace`. See https://setuptools.pypa.io/en/latest/references/keywords.html#keyword-namespace-packages\n",
      "  declare_namespace(pkg)\n",
      "/Users/emiliomaddalena/Documents/github/setfit/.venv/lib/python3.12/site-packages/datasets/utils/_dill.py:385: DeprecationWarning: co_lnotab is deprecated, use co_lines instead.\n",
      "  obj.co_lnotab,  # for < python 3.10 [not counted in args]\n",
      "Map: 100%|██████████| 12/12 [00:00<00:00, 3939.24 examples/s]\n",
      "***** Running training *****\n",
      "  Num unique pairs = 96\n",
      "  Batch size = 32\n",
      "  Num epochs = 3\n",
      "/Users/emiliomaddalena/Documents/github/setfit/.venv/lib/python3.12/site-packages/torch/utils/data/dataloader.py:683: UserWarning: 'pin_memory' argument is set as true but not supported on MPS now, then device pinned memory won't be used.\n",
      "  warnings.warn(warn_msg)\n"
     ]
    },
    {
     "data": {
      "text/html": [
       "\n",
       "    <div>\n",
       "      \n",
       "      <progress value='9' max='9' style='width:300px; height:20px; vertical-align: middle;'></progress>\n",
       "      [9/9 00:01, Epoch 3/3]\n",
       "    </div>\n",
       "    <table border=\"1\" class=\"dataframe\">\n",
       "  <thead>\n",
       " <tr style=\"text-align: left;\">\n",
       "      <th>Step</th>\n",
       "      <th>Training Loss</th>\n",
       "    </tr>\n",
       "  </thead>\n",
       "  <tbody>\n",
       "    <tr>\n",
       "      <td>1</td>\n",
       "      <td>0.144000</td>\n",
       "    </tr>\n",
       "  </tbody>\n",
       "</table><p>"
      ],
      "text/plain": [
       "<IPython.core.display.HTML object>"
      ]
     },
     "metadata": {},
     "output_type": "display_data"
    },
    {
     "name": "stderr",
     "output_type": "stream",
     "text": [
      "/Users/emiliomaddalena/Documents/github/setfit/.venv/lib/python3.12/site-packages/codecarbon/output_methods/file.py:50: FutureWarning: The behavior of DataFrame concatenation with empty or all-NA entries is deprecated. In a future version, this will no longer exclude empty or all-NA columns when determining the result dtypes. To retain the old behavior, exclude the relevant entries before the concat operation.\n",
      "  df = pd.concat([df, pd.DataFrame.from_records([dict(total.values)])])\n"
     ]
    }
   ],
   "source": [
    "SEED = 100\n",
    "random.seed(SEED)\n",
    "np.random.seed(SEED)\n",
    "torch.manual_seed(SEED)\n",
    "\n",
    "args = TrainingArguments(\n",
    "    batch_size=32,\n",
    "    num_epochs=3,\n",
    ")\n",
    "\n",
    "trainer = Trainer(\n",
    "    model=model,\n",
    "    args=args,\n",
    "    train_dataset=train_dataset,\n",
    ")\n",
    "\n",
    "trainer.train()"
   ]
  },
  {
   "cell_type": "code",
   "execution_count": 6,
   "id": "2381c6ce",
   "metadata": {},
   "outputs": [
    {
     "name": "stdout",
     "output_type": "stream",
     "text": [
      "I enjoy making homemade pizza on weekends.\n",
      "food\n",
      "chemistry\n",
      "['food', 'chemistry', 'sports']\n",
      "['chemistry' 'food' 'sports']\n"
     ]
    }
   ],
   "source": [
    "# 'I enjoy making homemade pizza on weekends.'\n",
    "sentence = sentences[0]\n",
    "print(sentence)\n",
    "\n",
    "# 'food' \n",
    "pred = model.predict(sentence)\n",
    "print(pred)\n",
    "\n",
    "# 'chemistry' \n",
    "probs = model.predict_proba(sentence, as_numpy=True)\n",
    "pred = model.id2label[int(np.argmax(probs))]\n",
    "print(pred)\n",
    "\n",
    "# ['food', 'chemistry', 'sports']\n",
    "print(model.labels)\n",
    "# ['chemistry', 'food', 'sports']\n",
    "print(model.model_head.classes_)"
   ]
  },
  {
   "cell_type": "code",
   "execution_count": null,
   "id": "41c206b9",
   "metadata": {},
   "outputs": [],
   "source": []
  }
 ],
 "metadata": {
  "kernelspec": {
   "display_name": ".venv",
   "language": "python",
   "name": "python3"
  },
  "language_info": {
   "codemirror_mode": {
    "name": "ipython",
    "version": 3
   },
   "file_extension": ".py",
   "mimetype": "text/x-python",
   "name": "python",
   "nbconvert_exporter": "python",
   "pygments_lexer": "ipython3",
   "version": "3.12.7"
  }
 },
 "nbformat": 4,
 "nbformat_minor": 5
}
